{
 "cells": [
  {
   "cell_type": "markdown",
   "metadata": {},
   "source": [
    "# Curve Registry\n",
    "Demonstration of using the Curve Registry to find and interact with Curve contracts\n",
    "\n",
    "### Useful links:\n",
    "* [`Source code`](https://github.com/curvefi/curve-pool-registry/): <https://github.com/curvefi/curve-pool-registry/>\n",
    "- [`AddressProvider`](https://github.com/curvefi/curve-pool-registry/blob/master/contracts/AddressProvider.vy): [0x0000000022D53366457F9d5E68Ec105046FC4383](https://etherscan.io/address/0x0000000022d53366457f9d5e68ec105046fc4383)\n",
    "- [`Registry`](https://github.com/curvefi/curve-pool-registry/blob/master/contracts/Registry.vy): [0x7D86446dDb609eD0F5f8684AcF30380a356b2B4c](https://etherscan.io/address/0x7D86446dDb609eD0F5f8684AcF30380a356b2B4c)\n",
    "- [`PoolInfo`](https://github.com/curvefi/curve-pool-registry/blob/master/contracts/PoolInfo.vy): [0xe64608E223433E8a03a1DaaeFD8Cb638C14B552C](https://etherscan.io/address/0xe64608E223433E8a03a1DaaeFD8Cb638C14B552C)\n",
    "- [`Swaps`](https://github.com/curvefi/curve-pool-registry/blob/master/contracts/Swaps.vy): [0xD1602F68CC7C4c7B59D686243EA35a9C73B0c6a2](https://etherscan.io/address/0xD1602F68CC7C4c7B59D686243EA35a9C73B0c6a2)\n"
   ]
  },
  {
   "cell_type": "markdown",
   "metadata": {},
   "source": [
    "## Setup\n",
    "Set up the environment by importing libraries, functions"
   ]
  },
  {
   "cell_type": "code",
   "execution_count": null,
   "metadata": {},
   "outputs": [],
   "source": [
    "# Initialize Brownie environment\n",
    "# <https://eth-brownie.readthedocs.io/en/stable/python-package.html#accessing-the-network>\n",
    "\n",
    "from brownie import network, Contract\n",
    "import json\n",
    "\n",
    "#XXX Make sure your WEB3 INFURA PROJECT ID is set as an environment variable, i.e. \n",
    "# %env WEB3_INFURA_PROJECT_ID=YOUR KEY HERE"
   ]
  },
  {
   "cell_type": "code",
   "execution_count": 2,
   "metadata": {},
   "outputs": [],
   "source": [
    "# Functions used throughout\n",
    "\n",
    "# Load an ABI stored in a file\n",
    "def load_abi(filename):\n",
    "    with open(filename, 'r') as f:\n",
    "        abi = json.load(f)\n",
    "    return abi\n",
    "\n",
    "# Load an ERC20 token\n",
    "def load_coin(address, abi_file = 'erc20.abi'):\n",
    "    return Contract.from_abi(\"ERC20\", address, load_abi(abi_file))"
   ]
  },
  {
   "cell_type": "code",
   "execution_count": 3,
   "metadata": {},
   "outputs": [],
   "source": [
    "# Human Readable Addresses used for testing\n",
    "\n",
    "# Registry Addresses\n",
    "provider_addr = '0x0000000022d53366457f9d5e68ec105046fc4383'\n",
    "\n",
    "# Tokens\n",
    "usdt_addr = '0xdAC17F958D2ee523a2206206994597C13D831ec7'\n",
    "usdc_addr = '0xA0b86991c6218b36c1d19D4a2e9Eb0cE3606eB48'\n",
    "dai_addr = '0x6B175474E89094C44Da98b954EedeAC495271d0F'\n",
    "\n",
    "# Y pool is a commonly used Curve pool\n",
    "# underlying coins: DAI/USDC/USDT/TUSD\n",
    "# compounding coins: yDAI/yUSDC/yUSDT/yTUSD\n",
    "y_pool_addr = '0x45F783CCE6B7FF23B2ab2D70e416cdb7D6055f51' \n",
    "\n",
    "# sUSD is a Curve metapool between 3pool and Synthetix USD\n",
    "susd_pool_addr = '0xA5407eAE9Ba41422680e2e00537571bcC53efBfD'\n",
    "\n",
    "# External DAI exchange to convert ETH to Dai\n",
    "dai_exchange_addr = '0x2a1530C4C41db0B0b2bB646CB5Eb1A67b7158667'\n",
    "\n",
    "# A return value of '0' for an address is 0x000...\n",
    "zero_addr = '0x0000000000000000000000000000000000000000'"
   ]
  },
  {
   "cell_type": "markdown",
   "metadata": {},
   "source": [
    "## Address Provider\n",
    "The Address Provider links to the active Curve contracts.  This section shows how to retrieve the current Registry address"
   ]
  },
  {
   "cell_type": "code",
   "execution_count": 4,
   "metadata": {},
   "outputs": [],
   "source": [
    "# Connect to the live Ethereum blockchain\n",
    "network.connect('mainnet')"
   ]
  },
  {
   "cell_type": "code",
   "execution_count": 5,
   "metadata": {},
   "outputs": [
    {
     "name": "stdout",
     "output_type": "stream",
     "text": [
      "The current registry address is 0x7D86446dDb609eD0F5f8684AcF30380a356b2B4c\n"
     ]
    }
   ],
   "source": [
    "# The registry may change, the Address Provider contract will point to the current registry address\n",
    "\n",
    "provider_contract = Contract.from_abi('NewAddressIdentifier', provider_addr, load_abi('provider.abi'))\n",
    "registry_addr = provider_contract.get_registry()\n",
    "\n",
    "print(f\"The current registry address is {registry_addr}\")"
   ]
  },
  {
   "cell_type": "code",
   "execution_count": 6,
   "metadata": {},
   "outputs": [
    {
     "name": "stdout",
     "output_type": "stream",
     "text": [
      "The current address of the Pool Info contract is 0xe64608E223433E8a03a1DaaeFD8Cb638C14B552C\n"
     ]
    }
   ],
   "source": [
    "# Load the address of the Pool Info contract from the Address Provider\n",
    "\n",
    "pool_info_addr = provider_contract.get_address(1) # The first offset is the Pool Info contract\n",
    "\n",
    "print(f\"The current address of the Pool Info contract is {pool_info_addr}\")"
   ]
  },
  {
   "cell_type": "code",
   "execution_count": 7,
   "metadata": {},
   "outputs": [
    {
     "name": "stdout",
     "output_type": "stream",
     "text": [
      "The current address of the Swaps contract is 0xD1602F68CC7C4c7B59D686243EA35a9C73B0c6a2\n"
     ]
    }
   ],
   "source": [
    "# Load the address of the Swaps contract from the Address Provider\n",
    "\n",
    "swaps_addr = provider_contract.get_address(2) # The second offset is the address of the swaps contract\n",
    "\n",
    "print(f\"The current address of the Swaps contract is {swaps_addr}\")"
   ]
  },
  {
   "cell_type": "markdown",
   "metadata": {},
   "source": [
    "## Registry\n",
    "From the registry contract, all Curve pools can be accessed.  This section shows how to interact with the registry on the live mainnet"
   ]
  },
  {
   "cell_type": "code",
   "execution_count": 8,
   "metadata": {},
   "outputs": [
    {
     "name": "stdout",
     "output_type": "stream",
     "text": [
      "Curve currently has 32 pools\n"
     ]
    }
   ],
   "source": [
    "# Load the registry\n",
    "registry_contract = Contract.from_abi('CurveRegistry', registry_addr, load_abi('registry.abi'))\n",
    "\n",
    "# Loop through current pools\n",
    "pool_count = registry_contract.pool_count()\n",
    "print(f\"Curve currently has {pool_count} pools\")"
   ]
  },
  {
   "cell_type": "code",
   "execution_count": 9,
   "metadata": {},
   "outputs": [
    {
     "name": "stdout",
     "output_type": "stream",
     "text": [
      "\n",
      "Pool 1 is located at 0xbEbc44782C7dB0a1A60Cb6fe97d0b483032FF1C7 consisting of:\n",
      " DAI ($Dai Stablecoin) located at 0x6B175474E89094C44Da98b954EedeAC495271d0F\n",
      " USDC ($USD Coin) located at 0xA0b86991c6218b36c1d19D4a2e9Eb0cE3606eB48\n",
      " USDT ($Tether USD) located at 0xdAC17F958D2ee523a2206206994597C13D831ec7\n",
      "\n",
      "Pool 2 is located at 0x79a8C46DeA5aDa233ABaFFD40F3A0A2B1e5A4F27 consisting of:\n",
      " yDAI ($iearn DAI) located at 0xC2cB1040220768554cf699b0d863A3cd4324ce32\n",
      " yUSDC ($iearn USDC) located at 0x26EA744E5B887E5205727f55dFBE8685e3b21951\n",
      " yUSDT ($iearn USDT) located at 0xE6354ed5bC4b393a5Aad09f21c46E101e692d447\n",
      " yBUSD ($iearn BUSD) located at 0x04bC0Ab673d88aE9dbC9DA2380cB6B79C4BCa9aE\n",
      "\n",
      "Pool 3 is located at 0xA2B47E3D5c44877cca798226B7B8118F9BFb7A56 consisting of:\n",
      " cDAI ($Compound Dai) located at 0x5d3a536E4D6DbD6114cc1Ead35777bAB948E3643\n",
      " cUSDC ($Compound USD Coin) located at 0x39AA39c021dfbaE8faC545936693aC917d5E7563\n"
     ]
    }
   ],
   "source": [
    "# Loop through first 3 pools.  Replace \"3\" with `pool_count` to loop all pools\n",
    "for i in range(3):\n",
    "    # The pool_list function pulls the pool address by index\n",
    "    address = registry_contract.pool_list(i)\n",
    "    print(f\"\\nPool {i + 1} is located at {address} consisting of:\")\n",
    "    \n",
    "    # The get_coins function retrieves the first eight coins within a pool\n",
    "    coins = registry_contract.get_coins(address)\n",
    "    \n",
    "    for c in coins:\n",
    "        # get_coins retrieves 8 addresses, returning blank addresses if the pool has fewer than 8\n",
    "        if c == zero_addr:\n",
    "            break\n",
    "            \n",
    "        # Use our function defined above to interact with an ERC20 token\n",
    "        coin_data = load_coin(c)\n",
    "        print(f\" {coin_data.symbol()} (${coin_data.name()}) located at {c}\")"
   ]
  },
  {
   "cell_type": "markdown",
   "metadata": {},
   "source": [
    "### Finding a pool by coins\n",
    "Pools can be found for a given pair (from -> to). There is an array of pools per pair on chain, and you need to pass an integer (0, 1, 2...) to iterate over all pools in existence who have this currency pair.\n",
    "Once there are no more pools existing for that pair, zero address is returned."
   ]
  },
  {
   "cell_type": "code",
   "execution_count": 10,
   "metadata": {},
   "outputs": [
    {
     "data": {
      "text/plain": [
       "'0xbEbc44782C7dB0a1A60Cb6fe97d0b483032FF1C7'"
      ]
     },
     "execution_count": 10,
     "metadata": {},
     "output_type": "execute_result"
    }
   ],
   "source": [
    "# Query the Registry contract to find the first pool that exchanges USDT for DAI\n",
    "registry_contract.find_pool_for_coins(usdt_addr, dai_addr, 0)"
   ]
  },
  {
   "cell_type": "code",
   "execution_count": 11,
   "metadata": {},
   "outputs": [
    {
     "data": {
      "text/plain": [
       "'0x79a8C46DeA5aDa233ABaFFD40F3A0A2B1e5A4F27'"
      ]
     },
     "execution_count": 11,
     "metadata": {},
     "output_type": "execute_result"
    }
   ],
   "source": [
    "# Query the Registry contract to find the second pool that exchanges USDT for DAI\n",
    "registry_contract.find_pool_for_coins(usdt_addr, dai_addr, 1)"
   ]
  },
  {
   "cell_type": "code",
   "execution_count": 12,
   "metadata": {},
   "outputs": [
    {
     "name": "stdout",
     "output_type": "stream",
     "text": [
      "No pool found at this index\n"
     ]
    }
   ],
   "source": [
    "# If we check a very high offset (20) we should not expect to find a pool, but the zero address\n",
    "\n",
    "pool_too_far = registry_contract.find_pool_for_coins(usdt_addr, dai_addr, 20)  # ... eventually we hit 0x0000\n",
    "if pool_too_far == zero_addr:\n",
    "    print(\"No pool found at this index\")\n",
    "else:\n",
    "    print(f\"Found {pool_too_far}\")"
   ]
  },
  {
   "cell_type": "code",
   "execution_count": 13,
   "metadata": {},
   "outputs": [
    {
     "name": "stdout",
     "output_type": "stream",
     "text": [
      "1.0674601574371512\n",
      "1.1968430112258905\n",
      "1.0582256307261866\n",
      "1.035785230609678\n"
     ]
    }
   ],
   "source": [
    "# Rates are the effective rate of the coins.  Y pool has four coins\n",
    "rates = registry_contract.get_rates(y_pool_addr)\n",
    "for r in rates:\n",
    "    if r != 0:\n",
    "        print(r / 1e18)"
   ]
  },
  {
   "cell_type": "markdown",
   "metadata": {},
   "source": [
    "## Pool Info\n",
    "The Pool Info contract is a convenient endpoint to retrieve multiple data points about Curve pools"
   ]
  },
  {
   "cell_type": "code",
   "execution_count": 14,
   "metadata": {},
   "outputs": [],
   "source": [
    "# Pool Info provides a contract that loads many registry endpoints within one data structure\n",
    "pool_info = Contract.from_abi('PoolInfo', pool_info_addr, load_abi('poolinfo.abi'))"
   ]
  },
  {
   "cell_type": "markdown",
   "metadata": {},
   "source": [
    "Return Format:\n",
    "```\n",
    "     [\n",
    "        balances: Registry.get_balances(),\n",
    "        underlying_balances: Registry.get_underlying_balances(),\n",
    "        decimals: Registry.get_decimals(),\n",
    "        underlying_decimals: Registry).get_underlying_decimals(),\n",
    "        rates: Registry.get_rates(),\n",
    "        lp_token: Registry.get_lp_token(),\n",
    "        params: Registry.get_parameters(),\n",
    "      ]\n",
    "```"
   ]
  },
  {
   "cell_type": "markdown",
   "metadata": {},
   "source": [
    "With rates, underlying_balance = balance * rate / 1e18"
   ]
  },
  {
   "cell_type": "markdown",
   "metadata": {},
   "source": [
    "The Parameters are a tuple containing:\n",
    "\n",
    "``` \n",
    "(\n",
    "    pool_params.A = CurvePool().A(),\n",
    "    pool_params.future_A = CurvePool().future_A(),\n",
    "    pool_params.fee = CurvePool().fee(),\n",
    "    pool_params.future_fee = CurvePool().future_fee(),\n",
    "    pool_params.admin_fee = CurvePool().admin_fee(),\n",
    "    pool_params.future_admin_fee = CurvePool().future_admin_fee(),\n",
    "    pool_params.future_owner = CurvePool().future_owner()\n",
    "```\n",
    "_Optionally contains the following if an initial_A value exists_\n",
    "```\n",
    "    pool_params.initial_A = CurvePool(_pool).initial_A(),  \n",
    "    pool_params.initial_A_time = CurvePool(_pool).initial_A_time(),\n",
    "    pool_params.future_A_time = CurvePool(_pool).future_A_time()\n",
    ")\n",
    "```"
   ]
  },
  {
   "cell_type": "code",
   "execution_count": 15,
   "metadata": {},
   "outputs": [
    {
     "name": "stdout",
     "output_type": "stream",
     "text": [
      "Info for the first coin in 0x45F783CCE6B7FF23B2ab2D70e416cdb7D6055f51\n",
      "Balance is 17212566.706174113\n",
      "Precision is 18 Decimals\n",
      "\n",
      "Other pool info:\n",
      "Current amplification factor is 1000\n",
      "This amplification factor is not scheduled to change\n"
     ]
    }
   ],
   "source": [
    "# Some example data from PoolInfo for Y Pool\n",
    "\n",
    "y_info = pool_info.get_pool_info(y_pool_addr)\n",
    "print(f\"Info for the first coin in {y_pool_addr}\")\n",
    "print(f\"Balance is {y_info[0][0] / (10 ** y_info[2][0])}\")\n",
    "print(f\"Precision is {y_info[2][0]} Decimals\")\n",
    "\n",
    "print()\n",
    "print(\"Other pool info:\")\n",
    "print(f\"Current amplification factor is {y_info[6][0]}\")\n",
    "if y_info[6][0] == y_info[6][1]:\n",
    "    print(f\"This amplification factor is not scheduled to change\")\n",
    "else:\n",
    "    print(f\"This amplification factor is schedule to change to {y_info[6][1]}\")\n",
    "    "
   ]
  },
  {
   "cell_type": "markdown",
   "metadata": {},
   "source": [
    "### Estimate the most probable gas usage for exchanging coins"
   ]
  },
  {
   "cell_type": "code",
   "execution_count": 16,
   "metadata": {},
   "outputs": [],
   "source": [
    "# Estimate gas usage for exchanging coins\n",
    "# XXX Does not work without calculator connected\n",
    "calculator_connected = False\n",
    "\n",
    "if calculator_connected:\n",
    "    registry_contract.estimate_gas_used(y_pool_addr,\n",
    "                           usdt_addr,\n",
    "                           dai_addr)"
   ]
  },
  {
   "cell_type": "markdown",
   "metadata": {},
   "source": [
    "### Calculate exchange amount(s)\n",
    "We're swapping USDC (6 digits) to DAI (18 digits)"
   ]
  },
  {
   "cell_type": "code",
   "execution_count": 17,
   "metadata": {},
   "outputs": [],
   "source": [
    "# Load the exchange contract from the address we got from the Registry\n",
    "exchange_contract = Contract.from_abi('Exchange', swaps_addr, load_abi('exchange.abi'))"
   ]
  },
  {
   "cell_type": "code",
   "execution_count": 18,
   "metadata": {},
   "outputs": [
    {
     "data": {
      "text/plain": [
       "0.9986814073279512"
      ]
     },
     "execution_count": 18,
     "metadata": {},
     "output_type": "execute_result"
    }
   ],
   "source": [
    "# What is exchange rate we can get for converting USDC to DAI?\n",
    "dai_amount = exchange_contract.get_exchange_amount(\n",
    "                             y_pool_addr,\n",
    "                             usdc_addr,\n",
    "                             dai_addr,\n",
    "                             10 ** 6)  # Dump 1 USDC\n",
    "dai_amount / 1e18  # DAI has 18 digits"
   ]
  },
  {
   "cell_type": "markdown",
   "metadata": {},
   "source": [
    "How much USDC do we need to get 1 DAI?"
   ]
  },
  {
   "cell_type": "code",
   "execution_count": 19,
   "metadata": {},
   "outputs": [],
   "source": [
    "# IF we want to get a final amount of 1 DAI, how much USDC do we need to put in?\n",
    "# XXX Does not work without calculator connected\n",
    "\n",
    "if calculator_connected:\n",
    "    usdc_amount = exchange_contract.get_input_amount(\n",
    "                             y_pool_addr,\n",
    "                             usdc_addr,\n",
    "                             dai_addr,\n",
    "                             10 ** 18)\n",
    "    usdc_amount / 1e6"
   ]
  },
  {
   "cell_type": "markdown",
   "metadata": {},
   "source": [
    "Get many exchange amounts (DAI for USDC) at once"
   ]
  },
  {
   "cell_type": "code",
   "execution_count": 20,
   "metadata": {},
   "outputs": [],
   "source": [
    "# What are the exchange amounts for a range of values?\n",
    "# XXX Does not work without calculator connected\n",
    "if calculator_connected:\n",
    "    amounts = exchange_contract.get_exchange_amounts(\n",
    "                             y_pool_addr,\n",
    "                             usdc_addr,\n",
    "                             dai_addr,\n",
    "                             [x * 10 ** 6 for x in range(1, 101)])\n",
    "    [x / 1e18 for x in amounts][:5]  # Let's show only first 5 out of 100"
   ]
  },
  {
   "cell_type": "code",
   "execution_count": 21,
   "metadata": {},
   "outputs": [],
   "source": [
    "# Disconnect from the network to prepare for the next section that deals with moving value around.\n",
    "network.disconnect()"
   ]
  },
  {
   "cell_type": "markdown",
   "metadata": {},
   "source": [
    "### Exchanges"
   ]
  },
  {
   "cell_type": "markdown",
   "metadata": {},
   "source": [
    "Reconnect to a fork of mainnet on ganache-cli, giving local access to a live blockchain snapshot."
   ]
  },
  {
   "cell_type": "code",
   "execution_count": null,
   "metadata": {},
   "outputs": [],
   "source": [
    "# Connect directly to mainnet-fork\n",
    "network.connect('mainnet-fork')\n",
    "\n",
    "# Another method of connecting to a local forked mainnet:\n",
    "# network.connect('development')"
   ]
  },
  {
   "cell_type": "code",
   "execution_count": 23,
   "metadata": {},
   "outputs": [],
   "source": [
    "# Load the contracts for the ERC20 tokens we'll be interacting with\n",
    "dai_contract = load_coin(dai_addr)\n",
    "usdc_contract = load_coin(usdc_addr)"
   ]
  },
  {
   "cell_type": "code",
   "execution_count": 24,
   "metadata": {},
   "outputs": [
    {
     "name": "stdout",
     "output_type": "stream",
     "text": [
      "Transaction sent: \u001b[0;1;34m0x2767517ce4cd0ba32bbe6b7638d7044a42f8f89591f555595820bc079f0ef5d5\u001b[0;m\n",
      "  Gas price: \u001b[0;1;34m0.0\u001b[0;m gwei   Gas limit: \u001b[0;1;34m12000000\u001b[0;m   Nonce: \u001b[0;1;34m1\u001b[0;m\n",
      "  DaiExchange.ethToTokenSwapInput confirmed - Block: \u001b[0;1;34m11934767\u001b[0;m   Gas used: \u001b[0;1;34m66972\u001b[0;m (\u001b[0;1;34m0.56%\u001b[0;m)\n",
      "\n"
     ]
    },
    {
     "data": {
      "text/plain": [
       "<Transaction '\u001b[0;m0x2767517ce4cd0ba32bbe6b7638d7044a42f8f89591f555595820bc079f0ef5d5\u001b[0;m'>"
      ]
     },
     "execution_count": 24,
     "metadata": {},
     "output_type": "execute_result"
    }
   ],
   "source": [
    "# Trade some Eth from default accounts for DAI\n",
    "\n",
    "# Create \"Alice\" account from Brownie pre-populated addresses\n",
    "from brownie import accounts\n",
    "alice = accounts[0]\n",
    "\n",
    "# Convert Alice's ETH to DAI using a DAI exchange\n",
    "dai_exchange_contract = Contract.from_abi('DaiExchange', dai_exchange_addr, load_abi('dai_exchange.abi'))\n",
    "dai_exchange_contract.ethToTokenSwapInput(1, 9999999999, {'from': alice, 'value': '10 ether'})"
   ]
  },
  {
   "cell_type": "markdown",
   "metadata": {},
   "source": [
    "**Make ERC20 contract objects to check balances before and after transaction**"
   ]
  },
  {
   "cell_type": "code",
   "execution_count": 26,
   "metadata": {},
   "outputs": [
    {
     "name": "stdout",
     "output_type": "stream",
     "text": [
      "Alice's initial balance is 14377.72027796293\n"
     ]
    }
   ],
   "source": [
    "# Store initial balance and verify > 0\n",
    "initial_dai_balance = dai_contract.balanceOf(alice) / 1e18  # DAI is 18 decimal places\n",
    "print(f\"Alice's initial balance is {initial_dai_balance}\")"
   ]
  },
  {
   "cell_type": "code",
   "execution_count": 27,
   "metadata": {},
   "outputs": [
    {
     "data": {
      "text/plain": [
       "0.0"
      ]
     },
     "execution_count": 27,
     "metadata": {},
     "output_type": "execute_result"
    }
   ],
   "source": [
    "# Alice should have no USDC\n",
    "usdc_contract.balanceOf(alice) / 1e6  # USDC is 6 decimal places"
   ]
  },
  {
   "cell_type": "code",
   "execution_count": 28,
   "metadata": {},
   "outputs": [
    {
     "name": "stdout",
     "output_type": "stream",
     "text": [
      "Transaction sent: \u001b[0;1;34m0x8f837086a9e42bf9b5a11f28aacae01f218c416a25f8e4c3e0a85d63a308f1ce\u001b[0;m\n",
      "  Gas price: \u001b[0;1;34m0.0\u001b[0;m gwei   Gas limit: \u001b[0;1;34m12000000\u001b[0;m   Nonce: \u001b[0;1;34m2\u001b[0;m\n",
      "  ERC20.approve confirmed - Block: \u001b[0;1;34m11934768\u001b[0;m   Gas used: \u001b[0;1;34m44046\u001b[0;m (\u001b[0;1;34m0.37%\u001b[0;m)\n",
      "\n"
     ]
    },
    {
     "data": {
      "text/plain": [
       "<Transaction '\u001b[0;m0x8f837086a9e42bf9b5a11f28aacae01f218c416a25f8e4c3e0a85d63a308f1ce\u001b[0;m'>"
      ]
     },
     "execution_count": 28,
     "metadata": {},
     "output_type": "execute_result"
    }
   ],
   "source": [
    "# Approve token transfer in the source contract\n",
    "dai_contract.approve(exchange_contract, 5 * 1e18, {'from': alice}) # Approve 5 dollars"
   ]
  },
  {
   "cell_type": "code",
   "execution_count": 29,
   "metadata": {},
   "outputs": [
    {
     "name": "stdout",
     "output_type": "stream",
     "text": [
      "Transaction sent: \u001b[0;1;34m0xbeefc1c22852bc5268730f27c7dd7953f38a633cf0a42ea4798f74673b194237\u001b[0;m\n",
      "  Gas price: \u001b[0;1;34m0.0\u001b[0;m gwei   Gas limit: \u001b[0;1;34m12000000\u001b[0;m   Nonce: \u001b[0;1;34m3\u001b[0;m\n",
      "  Exchange.exchange confirmed - Block: \u001b[0;1;34m11934769\u001b[0;m   Gas used: \u001b[0;1;34m193244\u001b[0;m (\u001b[0;1;34m1.61%\u001b[0;m)\n",
      "\n"
     ]
    },
    {
     "data": {
      "text/plain": [
       "<Transaction '\u001b[0;m0xbeefc1c22852bc5268730f27c7dd7953f38a633cf0a42ea4798f74673b194237\u001b[0;m'>"
      ]
     },
     "execution_count": 29,
     "metadata": {},
     "output_type": "execute_result"
    }
   ],
   "source": [
    "# Perform the exchange\n",
    "exchange_contract.exchange(\n",
    "                  susd_pool_addr,                              # SUSD pool\n",
    "                  dai_addr,                                    # from DAI\n",
    "                  usdc_addr,                                   # to USDC\n",
    "                  10 ** 18,                                    # swap 1 dollar\n",
    "                  10 ** 6 // 2,                                # require no less than half a dollar\n",
    "                  {'from': alice})"
   ]
  },
  {
   "cell_type": "code",
   "execution_count": 30,
   "metadata": {},
   "outputs": [
    {
     "name": "stdout",
     "output_type": "stream",
     "text": [
      "Alice's balance has dropped from $14378.0 to $14377.0\n",
      "The exact difference is $1.0\n"
     ]
    }
   ],
   "source": [
    "# Alice's balance has dropped\n",
    "final_dai_balance = dai_contract.balanceOf(alice) / 1e18\n",
    "print(f\"Alice's balance has dropped from ${round(initial_dai_balance,0)} to ${round(final_dai_balance,0)}\")\n",
    "print(f\"The exact difference is ${(initial_dai_balance - final_dai_balance)}\")"
   ]
  },
  {
   "cell_type": "code",
   "execution_count": 33,
   "metadata": {},
   "outputs": [
    {
     "data": {
      "text/plain": [
       "1.000538"
      ]
     },
     "execution_count": 33,
     "metadata": {},
     "output_type": "execute_result"
    }
   ],
   "source": [
    "# Alice's final balance has increased\n",
    "usdc_contract.balanceOf(alice) / 1e6"
   ]
  }
 ],
 "metadata": {
  "kernelspec": {
   "display_name": "Jarvis",
   "language": "python",
   "name": "jarvis"
  },
  "language_info": {
   "codemirror_mode": {
    "name": "ipython",
    "version": 3
   },
   "file_extension": ".py",
   "mimetype": "text/x-python",
   "name": "python",
   "nbconvert_exporter": "python",
   "pygments_lexer": "ipython3",
   "version": "3.7.9"
  }
 },
 "nbformat": 4,
 "nbformat_minor": 4
}
